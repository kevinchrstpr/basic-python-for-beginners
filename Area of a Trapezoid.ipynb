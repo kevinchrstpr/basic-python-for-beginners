{
 "cells": [
  {
   "cell_type": "code",
   "execution_count": 1,
   "metadata": {},
   "outputs": [],
   "source": [
    "import numpy as np\n",
    "import os"
   ]
  },
  {
   "cell_type": "markdown",
   "metadata": {},
   "source": [
    "#### Write a Python program to calculate the area of a trapezoid."
   ]
  },
  {
   "cell_type": "markdown",
   "metadata": {},
   "source": [
    "#### A trapezoid is a quadrilateral with two sides parallel. The trapezoid is equivalent to the British definition of the trapezium. An isosceles trapezoid is a trapezoid in which the base angles are equal so.\n",
    "#### Test Data:\n",
    "#### Height : 5\n",
    "#### Base, first value : 5\n",
    "#### Base, second value : 6\n",
    "#### Expected Output: Area is : 27.5"
   ]
  },
  {
   "cell_type": "markdown",
   "metadata": {},
   "source": [
    "#### --------------------------------------------------------"
   ]
  },
  {
   "cell_type": "markdown",
   "metadata": {},
   "source": [
    "#### Area of Trapezoid formula :\n",
    "#### (a + b) / 2 * h"
   ]
  },
  {
   "cell_type": "code",
   "execution_count": 10,
   "metadata": {},
   "outputs": [
    {
     "name": "stdout",
     "output_type": "stream",
     "text": [
      "Area of a Trapezoid, Task 3\n",
      "height = 5\n",
      "5.0\n",
      "first base = 6\n",
      "6.0\n",
      "second base = 5\n",
      "5.0\n",
      "Your result is =  27.5 cm\n"
     ]
    }
   ],
   "source": [
    "print(\"Area of a Trapezoid, Task 3\")\n",
    "\n",
    "h = float(input(\"height = \"))\n",
    "print(h)\n",
    "a = float(input(\"first base = \"))\n",
    "print(a)\n",
    "b = float(input(\"second base = \"))\n",
    "print(b)\n",
    "\n",
    "result = (a + b) / 2 * h\n",
    "print(\"Your result is = \", result, \"cm\")"
   ]
  },
  {
   "cell_type": "code",
   "execution_count": null,
   "metadata": {},
   "outputs": [],
   "source": []
  }
 ],
 "metadata": {
  "kernelspec": {
   "display_name": "Python 3",
   "language": "python",
   "name": "python3"
  },
  "language_info": {
   "codemirror_mode": {
    "name": "ipython",
    "version": 3
   },
   "file_extension": ".py",
   "mimetype": "text/x-python",
   "name": "python",
   "nbconvert_exporter": "python",
   "pygments_lexer": "ipython3",
   "version": "3.8.3"
  }
 },
 "nbformat": 4,
 "nbformat_minor": 4
}
