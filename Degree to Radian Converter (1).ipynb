{
 "cells": [
  {
   "cell_type": "code",
   "execution_count": 11,
   "metadata": {},
   "outputs": [],
   "source": [
    "import os"
   ]
  },
  {
   "cell_type": "code",
   "execution_count": 12,
   "metadata": {},
   "outputs": [],
   "source": [
    "import numpy as np"
   ]
  },
  {
   "cell_type": "markdown",
   "metadata": {},
   "source": [
    "#### Degree to Radian Converter using Python by Kevin, solving the task from\n",
    "https://www.w3resource.com/python-exercises/math/"
   ]
  },
  {
   "cell_type": "markdown",
   "metadata": {},
   "source": [
    "#### Im using english to make it more fluently"
   ]
  },
  {
   "cell_type": "markdown",
   "metadata": {},
   "source": [
    "####Degree to Radian Formulas : \n",
    "####    degree * phi / 180"
   ]
  },
  {
   "cell_type": "code",
   "execution_count": 9,
   "metadata": {},
   "outputs": [
    {
     "name": "stdout",
     "output_type": "stream",
     "text": [
      "Degree to Radian Math Problems with Python Solving\n",
      "Your degree15\n",
      "Result is =  0.26190476190476186\n"
     ]
    }
   ],
   "source": [
    "print(\"Degree to Radian Math Problems with Python Solving\")\n",
    "\n",
    "phi = 22/7\n",
    "degree = float(input(\"Your degree\"))\n",
    "result = degree * phi / 180\n",
    "print(\"Result is = \", result)"
   ]
  },
  {
   "cell_type": "code",
   "execution_count": null,
   "metadata": {},
   "outputs": [],
   "source": []
  }
 ],
 "metadata": {
  "kernelspec": {
   "display_name": "Python 3",
   "language": "python",
   "name": "python3"
  },
  "language_info": {
   "codemirror_mode": {
    "name": "ipython",
    "version": 3
   },
   "file_extension": ".py",
   "mimetype": "text/x-python",
   "name": "python",
   "nbconvert_exporter": "python",
   "pygments_lexer": "ipython3",
   "version": "3.8.3"
  }
 },
 "nbformat": 4,
 "nbformat_minor": 4
}
